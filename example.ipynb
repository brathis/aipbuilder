{
 "cells": [
  {
   "cell_type": "code",
   "execution_count": 1,
   "id": "c7ee4a97",
   "metadata": {},
   "outputs": [],
   "source": [
    "import logging\n",
    "\n",
    "import folium\n",
    "import geopandas\n",
    "import shapely\n",
    "\n",
    "from aipbuilder.build_airspaces import (\n",
    "    parse_geometry_definition_file,\n",
    "    parse_vfr_reporting_points,\n",
    ")\n",
    "from aipbuilder.providers import ProviderToken\n",
    "\n",
    "log = logging.getLogger(__name__)\n",
    "logging.basicConfig(level=logging.INFO)\n",
    "\n",
    "\n",
    "class ExampleBorderProvider:\n",
    "    def __init__(self, path: str) -> None:\n",
    "        self._gdf = geopandas.GeoDataFrame.from_file(path)\n",
    "        pass\n",
    "\n",
    "    def get_border(self, border_name: str) -> shapely.LineString:\n",
    "        df = self._gdf.loc[self._gdf.name == border_name]\n",
    "        if not len(df):\n",
    "            raise KeyError(border_name)\n",
    "        return df.iloc[0].geometry\n",
    "\n",
    "\n",
    "providers = {ProviderToken.BORDER_PROVIDER: ExampleBorderProvider('./example-data/borders/example_borders.shp')}"
   ]
  },
  {
   "cell_type": "code",
   "execution_count": 2,
   "id": "e06da960",
   "metadata": {},
   "outputs": [],
   "source": [
    "\n",
    "gdf_airspaces = parse_geometry_definition_file(\n",
    "    \"./example-data/airspaces.csv\", providers\n",
    ")\n",
    "gdf_restricted_areas = parse_geometry_definition_file(\n",
    "    \"./example-data/restricted_areas.csv\", providers\n",
    ")\n",
    "gdf_danger_areas = parse_geometry_definition_file(\n",
    "    \"./example-data/danger_areas.csv\", providers\n",
    ")\n",
    "gdf_fir = parse_geometry_definition_file(\"./example-data/fir.csv\", providers)\n",
    "gdf_vfr_reporting_points = parse_vfr_reporting_points(\n",
    "    \"./example-data/vfr_reporting_points.csv\"\n",
    ")"
   ]
  },
  {
   "cell_type": "code",
   "execution_count": null,
   "id": "b9e21872",
   "metadata": {},
   "outputs": [],
   "source": [
    "m = folium.Map()\n",
    "gdf_airspaces.explore(m=m, color=\"blue\")\n",
    "gdf_restricted_areas.explore(m=m, color=\"orange\")\n",
    "gdf_danger_areas.explore(m=m, color=\"yellow\")\n",
    "gdf_fir.explore(m=m, color=\"purple\", style_kwds={\"fill\": False})\n",
    "gdf_vfr_reporting_points.explore(\n",
    "    m=m,\n",
    "    marker_type=\"circle\",\n",
    "    marker_kwds={\"color\": \"black\", \"fill\": True, \"radius\": 250},\n",
    ")\n",
    "for border_name in [\"CH\", \"LI\"]:\n",
    "    border_points = providers[ProviderToken.BORDER_PROVIDER].get_border(border_name).coords\n",
    "    for border_point in border_points:\n",
    "        folium.CircleMarker(\n",
    "            (border_point[1], border_point[0]),\n",
    "            radius=5,\n",
    "            color=\"magenta\",\n",
    "            stroke=False,\n",
    "            fill=True,\n",
    "            fill_opacity=0.6,\n",
    "            opacity=1,\n",
    "        ).add_to(m)"
   ]
  }
 ],
 "metadata": {
  "kernelspec": {
   "display_name": ".venv",
   "language": "python",
   "name": "python3"
  },
  "language_info": {
   "codemirror_mode": {
    "name": "ipython",
    "version": 3
   },
   "file_extension": ".py",
   "mimetype": "text/x-python",
   "name": "python",
   "nbconvert_exporter": "python",
   "pygments_lexer": "ipython3",
   "version": "3.12.3"
  }
 },
 "nbformat": 4,
 "nbformat_minor": 5
}
